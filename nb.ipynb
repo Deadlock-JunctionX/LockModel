{
 "cells": [
  {
   "cell_type": "code",
   "execution_count": 21,
   "metadata": {},
   "outputs": [
    {
     "ename": "IsADirectoryError",
     "evalue": "[Errno 21] Is a directory: '/home/viethd/.cache/huggingface/datasets/j_xdataset/Junction/0.1.0/'",
     "output_type": "error",
     "traceback": [
      "\u001b[0;31m---------------------------------------------------------------------------\u001b[0m",
      "\u001b[0;31mIsADirectoryError\u001b[0m                         Traceback (most recent call last)",
      "Cell \u001b[0;32mIn[21], line 4\u001b[0m\n\u001b[1;32m      2\u001b[0m \u001b[39mfrom\u001b[39;00m \u001b[39mdatasets\u001b[39;00m \u001b[39mimport\u001b[39;00m load_dataset\n\u001b[1;32m      3\u001b[0m \u001b[39mfrom\u001b[39;00m \u001b[39mdatasets\u001b[39;00m \u001b[39mimport\u001b[39;00m disable_caching\n\u001b[0;32m----> 4\u001b[0m os\u001b[39m.\u001b[39;49mremove(\u001b[39m\"\u001b[39;49m\u001b[39m/home/viethd/.cache/huggingface/datasets/j_xdataset/Junction/0.1.0/\u001b[39;49m\u001b[39m\"\u001b[39;49m)\n\u001b[1;32m      5\u001b[0m dataset \u001b[39m=\u001b[39m load_dataset(os\u001b[39m.\u001b[39mpath\u001b[39m.\u001b[39mabspath(\u001b[39m\"\u001b[39m\u001b[39mJXdataset.py\u001b[39m\u001b[39m\"\u001b[39m), \u001b[39m\"\u001b[39m\u001b[39mJunction\u001b[39m\u001b[39m\"\u001b[39m)\n",
      "\u001b[0;31mIsADirectoryError\u001b[0m: [Errno 21] Is a directory: '/home/viethd/.cache/huggingface/datasets/j_xdataset/Junction/0.1.0/'"
     ]
    }
   ],
   "source": [
    "import os\n",
    "from datasets import load_dataset\n",
    "from datasets import disable_caching\n",
    "os.removedirs(\"/home/viethd/.cache/huggingface/datasets/j_xdataset/Junction/0.1.0/\")\n",
    "dataset = load_dataset(os.path.abspath(\"JXdataset.py\"), \"Junction\")\n"
   ]
  },
  {
   "cell_type": "code",
   "execution_count": 14,
   "metadata": {},
   "outputs": [
    {
     "data": {
      "text/plain": [
       "['Hôm nay ăn hết 50k nhé!\\n',\n",
       " 'Tối qua nhậu hết 1120k nhé\\n',\n",
       " 'Chi phí cho buổi teambuilding hết 5 triệu @thanhduc, @sonhh\\n',\n",
       " '38k nha con vợ\\n',\n",
       " '100k nhoé bạn\\n',\n",
       " 'cho tôi vay 500k đc không bạn?\\n',\n",
       " 'Chuyển tiền 200k cho mẹ\\n',\n",
       " 'Nhớ trả lại 80k nha em',\n",
       " 'Sau này làm tư liệu lịch sử\\n',\n",
       " 'phải top 2 ms đc pitching anh ạ\\n',\n",
       " 'nên cx hên xui :)))))\\n',\n",
       " 'Anh em vô địch cơ mà\\n',\n",
       " 'A đặt sẵn taxi ra nội bài r\\n',\n",
       " 'có mấy đội thi fintech hả a Lân\\n',\n",
       " 'cx kín 1 phòng\\n',\n",
       " 'chắc phải hơn chục team',\n",
       " 'Để em chuyển cho anh 500k nhé\\n',\n",
       " 'Hôm qua anh nợ em 50k, để anh gửi em nhé\\n',\n",
       " 't chuyển 35k rồi nhé\\n',\n",
       " '90k hôm nọ t chuyển rồi nhé\\n',\n",
       " 'Gửi 300k vào tài khoản của ông bạn\\n',\n",
       " 'Đã chuyển 1 triệu cho anh xong']"
      ]
     },
     "execution_count": 14,
     "metadata": {},
     "output_type": "execute_result"
    }
   ],
   "source": [
    "dataset[\"train\"][\"text\"]"
   ]
  },
  {
   "cell_type": "code",
   "execution_count": 8,
   "metadata": {},
   "outputs": [],
   "source": [
    "from transformers import AutoTokenizer\n",
    "from transformers import AutoModelForSequenceClassification\n",
    "import torch\n",
    "tokenizer = AutoTokenizer.from_pretrained(\"junction-test\")\n",
    "model = AutoModelForSequenceClassification.from_pretrained(\"junction-test\")"
   ]
  },
  {
   "cell_type": "code",
   "execution_count": 9,
   "metadata": {},
   "outputs": [
    {
     "data": {
      "text/plain": [
       "'LENDING'"
      ]
     },
     "execution_count": 9,
     "metadata": {},
     "output_type": "execute_result"
    }
   ],
   "source": [
    "text = \"Năm nay tôi không tuổi\"\n",
    "inputs = tokenizer(text, return_tensors=\"pt\")\n",
    "\n",
    "\n",
    "with torch.no_grad():\n",
    "    logits = model(**inputs).logits\n",
    "\n",
    "predicted_class_id = logits.argmax().item()\n",
    "model.config.id2label[predicted_class_id]"
   ]
  }
 ],
 "metadata": {
  "kernelspec": {
   "display_name": ".venv",
   "language": "python",
   "name": "python3"
  },
  "language_info": {
   "codemirror_mode": {
    "name": "ipython",
    "version": 3
   },
   "file_extension": ".py",
   "mimetype": "text/x-python",
   "name": "python",
   "nbconvert_exporter": "python",
   "pygments_lexer": "ipython3",
   "version": "3.10.6"
  },
  "orig_nbformat": 4
 },
 "nbformat": 4,
 "nbformat_minor": 2
}
