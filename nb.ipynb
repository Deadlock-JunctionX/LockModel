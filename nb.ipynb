{
 "cells": [
  {
   "cell_type": "code",
   "execution_count": 23,
   "metadata": {},
   "outputs": [
    {
     "name": "stdout",
     "output_type": "stream",
     "text": [
      "Downloading and preparing dataset j_xdataset/Junction to /home/viethd/.cache/huggingface/datasets/j_xdataset/Junction/0.1.0/267003660a70eecbd746257e8434b348c8b3269dcb6d442af3d723df78c53e25...\n"
     ]
    },
    {
     "data": {
      "application/vnd.jupyter.widget-view+json": {
       "model_id": "bfb3ed7f75f042a883e288d84ba1948a",
       "version_major": 2,
       "version_minor": 0
      },
      "text/plain": [
       "Generating train split: 0 examples [00:00, ? examples/s]"
      ]
     },
     "metadata": {},
     "output_type": "display_data"
    },
    {
     "data": {
      "application/vnd.jupyter.widget-view+json": {
       "model_id": "c8bf6eda15cc4c1c92687a6eaa5fd883",
       "version_major": 2,
       "version_minor": 0
      },
      "text/plain": [
       "Generating validation split: 0 examples [00:00, ? examples/s]"
      ]
     },
     "metadata": {},
     "output_type": "display_data"
    },
    {
     "name": "stdout",
     "output_type": "stream",
     "text": [
      "Dataset j_xdataset downloaded and prepared to /home/viethd/.cache/huggingface/datasets/j_xdataset/Junction/0.1.0/267003660a70eecbd746257e8434b348c8b3269dcb6d442af3d723df78c53e25. Subsequent calls will reuse this data.\n"
     ]
    },
    {
     "data": {
      "application/vnd.jupyter.widget-view+json": {
       "model_id": "a8ec6e335d074eb8b6dce9bcdca38018",
       "version_major": 2,
       "version_minor": 0
      },
      "text/plain": [
       "  0%|          | 0/2 [00:00<?, ?it/s]"
      ]
     },
     "metadata": {},
     "output_type": "display_data"
    }
   ],
   "source": [
    "import os\n",
    "from datasets import load_dataset\n",
    "from datasets import disable_caching\n",
    "import shutil\n",
    "\n",
    "shutil.rmtree(\"/home/viethd/.cache/huggingface/datasets/j_xdataset/Junction/0.1.0/\")\n",
    "dataset = load_dataset(os.path.abspath(\"JXdataset.py\"), \"Junction\")\n"
   ]
  },
  {
   "cell_type": "code",
   "execution_count": 24,
   "metadata": {},
   "outputs": [
    {
     "data": {
      "text/plain": [
       "DatasetDict({\n",
       "    train: Dataset({\n",
       "        features: ['text', 'label'],\n",
       "        num_rows: 449\n",
       "    })\n",
       "    validation: Dataset({\n",
       "        features: ['text', 'label'],\n",
       "        num_rows: 449\n",
       "    })\n",
       "})"
      ]
     },
     "execution_count": 24,
     "metadata": {},
     "output_type": "execute_result"
    }
   ],
   "source": [
    "dataset"
   ]
  },
  {
   "cell_type": "code",
   "execution_count": 14,
   "metadata": {},
   "outputs": [
    {
     "data": {
      "text/plain": [
       "['Hôm nay ăn hết 50k nhé!\\n',\n",
       " 'Tối qua nhậu hết 1120k nhé\\n',\n",
       " 'Chi phí cho buổi teambuilding hết 5 triệu @thanhduc, @sonhh\\n',\n",
       " '38k nha con vợ\\n',\n",
       " '100k nhoé bạn\\n',\n",
       " 'cho tôi vay 500k đc không bạn?\\n',\n",
       " 'Chuyển tiền 200k cho mẹ\\n',\n",
       " 'Nhớ trả lại 80k nha em',\n",
       " 'Sau này làm tư liệu lịch sử\\n',\n",
       " 'phải top 2 ms đc pitching anh ạ\\n',\n",
       " 'nên cx hên xui :)))))\\n',\n",
       " 'Anh em vô địch cơ mà\\n',\n",
       " 'A đặt sẵn taxi ra nội bài r\\n',\n",
       " 'có mấy đội thi fintech hả a Lân\\n',\n",
       " 'cx kín 1 phòng\\n',\n",
       " 'chắc phải hơn chục team',\n",
       " 'Để em chuyển cho anh 500k nhé\\n',\n",
       " 'Hôm qua anh nợ em 50k, để anh gửi em nhé\\n',\n",
       " 't chuyển 35k rồi nhé\\n',\n",
       " '90k hôm nọ t chuyển rồi nhé\\n',\n",
       " 'Gửi 300k vào tài khoản của ông bạn\\n',\n",
       " 'Đã chuyển 1 triệu cho anh xong']"
      ]
     },
     "execution_count": 14,
     "metadata": {},
     "output_type": "execute_result"
    }
   ],
   "source": [
    "dataset[\"train\"][\"text\"]"
   ]
  },
  {
   "cell_type": "code",
   "execution_count": 8,
   "metadata": {},
   "outputs": [],
   "source": [
    "from transformers import AutoTokenizer\n",
    "from transformers import AutoModelForSequenceClassification\n",
    "import torch\n",
    "tokenizer = AutoTokenizer.from_pretrained(\"junction-test\")\n",
    "model = AutoModelForSequenceClassification.from_pretrained(\"junction-test\")"
   ]
  },
  {
   "cell_type": "code",
   "execution_count": 9,
   "metadata": {},
   "outputs": [
    {
     "data": {
      "text/plain": [
       "'LENDING'"
      ]
     },
     "execution_count": 9,
     "metadata": {},
     "output_type": "execute_result"
    }
   ],
   "source": [
    "text = \"Năm nay tôi không tuổi\"\n",
    "inputs = tokenizer(text, return_tensors=\"pt\")\n",
    "\n",
    "\n",
    "with torch.no_grad():\n",
    "    logits = model(**inputs).logits\n",
    "\n",
    "predicted_class_id = logits.argmax().item()\n",
    "model.config.id2label[predicted_class_id]"
   ]
  }
 ],
 "metadata": {
  "kernelspec": {
   "display_name": ".venv",
   "language": "python",
   "name": "python3"
  },
  "language_info": {
   "codemirror_mode": {
    "name": "ipython",
    "version": 3
   },
   "file_extension": ".py",
   "mimetype": "text/x-python",
   "name": "python",
   "nbconvert_exporter": "python",
   "pygments_lexer": "ipython3",
   "version": "3.10.6"
  },
  "orig_nbformat": 4
 },
 "nbformat": 4,
 "nbformat_minor": 2
}
